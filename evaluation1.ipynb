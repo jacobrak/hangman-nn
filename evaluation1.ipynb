{
 "cells": [
  {
   "cell_type": "code",
   "execution_count": 2,
   "id": "ea1256ff",
   "metadata": {},
   "outputs": [],
   "source": [
    "from Q_learning import *\n",
    "import torch\n",
    "from DQN import DQNAgent\n",
    "import pickle\n",
    "\n",
    "\n",
    "Word_set = cache(total_words=8885) # max count\n",
    "# Reproducability\n",
    "Word_set = sorted(Word_set)\n",
    "\n",
    "class Hangman2:\n",
    "    def __init__(self, word):\n",
    "        self.word = word\n",
    "        self.guessed_word = [\"_\"] * len(self.word)\n",
    "        self.lives = 5\n",
    "        self.guessed_letters = []\n",
    "\n",
    "    def __str__(self):\n",
    "        return \" \".join(self.guessed_word)\n",
    "\n",
    "    def guess(self, letter):\n",
    "        if len(letter) != 1 or not letter.isalpha():\n",
    "            return \"Invalid input\"\n",
    "\n",
    "        letter = letter.lower()\n",
    "        if letter in self.guessed_letters:\n",
    "            return \"Already guessed\"\n",
    "\n",
    "        self.guessed_letters.append(letter)\n",
    "        if letter in self.word:\n",
    "            for i, char in enumerate(self.word):\n",
    "                if char == letter:\n",
    "                    self.guessed_word[i] = letter\n",
    "            return \"Correct\"\n",
    "        else:\n",
    "            self.lives -= 1\n",
    "            return \"Incorrect\"\n",
    "\n",
    "    def is_game_over(self):\n",
    "        if \"_\" not in self.guessed_word:\n",
    "            return \"win\"\n",
    "        elif self.lives <= 0:\n",
    "            return \"lose\"\n",
    "        return None\n",
    "\n",
    "    def get_state(self):\n",
    "        return (self.guessed_word.copy(), self.guessed_letters.copy())\n",
    "\n",
    "\n",
    "def evaluate_agent2(agent, games=10, word_set=Word_set):\n",
    "    if word_set is None or len(word_set) < games:\n",
    "        raise ValueError(\"Word set must contain at least as many words as games to play.\")\n",
    "\n",
    "    wins = 0\n",
    "    total_lives_left = 0\n",
    "    words_won = set()\n",
    "\n",
    "    # Disable exploration for evaluation\n",
    "    original_exploration = agent.exploration_rate\n",
    "    agent.exploration_rate = 0\n",
    "\n",
    "    # Verify Q-table is loaded\n",
    "    if not agent.q_table:\n",
    "        print(\"⚠️ WARNING: Q-table is empty!\")\n",
    "        return\n",
    "\n",
    "    for game in range(games):\n",
    "        word = word_set[game]\n",
    "        hangman = Hangman2(word)\n",
    "\n",
    "        while True:\n",
    "            state = hangman.get_state()\n",
    "            normalized_state = agent.normalize_state(state)\n",
    "\n",
    "            action = agent.choose_action(normalized_state, hangman.guessed_letters)\n",
    "\n",
    "            if action is None:\n",
    "                break  # No valid actions left\n",
    "            \n",
    "            # Perform action\n",
    "            _ = hangman.guess(action)  \n",
    "            \n",
    "            game_status = hangman.is_game_over()\n",
    "            if game_status:\n",
    "                if \"win\" in game_status:\n",
    "                    wins += 1\n",
    "                    total_lives_left += hangman.lives\n",
    "                    words_won.add(hangman.word)\n",
    "                break\n",
    "\n",
    "    # Restore original exploration rate\n",
    "    agent.exploration_rate = original_exploration\n",
    "\n",
    "    # Summary\n",
    "    win_rate = wins / games\n",
    "    avg_lives = total_lives_left / wins if wins > 0 else 0\n",
    "\n",
    "    print(\"\\n🎯 Evaluation Results:\")\n",
    "    print(f\"Games played: {games}\")\n",
    "    print(f\"Games won: {wins}\")\n",
    "    print(f\"Win rate: {win_rate * 100:.2f}%\")\n",
    "    print(f\"Average lives left (wins only): {avg_lives:.2f}\")\n",
    "\n",
    "    return list(words_won)\n",
    "\n"
   ]
  },
  {
   "cell_type": "code",
   "execution_count": 3,
   "id": "f3ac7867",
   "metadata": {},
   "outputs": [
    {
     "name": "stdout",
     "output_type": "stream",
     "text": [
      "\n",
      "🎯 Evaluation Results:\n",
      "Games played: 100\n",
      "Games won: 31\n",
      "Win rate: 31.00%\n",
      "Average lives left (wins only): 3.55\n"
     ]
    },
    {
     "data": {
      "text/plain": [
       "['aghas',\n",
       " 'added',\n",
       " 'adeem',\n",
       " 'acred',\n",
       " 'agers',\n",
       " 'adieu',\n",
       " 'aglow',\n",
       " 'adzed',\n",
       " 'ackee',\n",
       " 'afore',\n",
       " 'achoo',\n",
       " 'adder',\n",
       " 'aglee',\n",
       " 'afoot',\n",
       " 'afire',\n",
       " 'aegis',\n",
       " 'agama',\n",
       " 'acerb',\n",
       " 'aeons',\n",
       " 'adobo',\n",
       " 'adore',\n",
       " 'acres',\n",
       " 'agger',\n",
       " 'after',\n",
       " 'aerie',\n",
       " 'adage',\n",
       " 'acold',\n",
       " 'acock',\n",
       " 'acned',\n",
       " 'aedes',\n",
       " 'agene']"
      ]
     },
     "execution_count": 3,
     "metadata": {},
     "output_type": "execute_result"
    }
   ],
   "source": [
    "agent = Agent()\n",
    "\n",
    "with open(\"q_table_huge.pkl\", \"rb\") as f:\n",
    "    agent.q_table = pickle.load(f)\n",
    "\n",
    "evaluate_agent2(agent, games=100)"
   ]
  },
  {
   "cell_type": "markdown",
   "id": "e9397392",
   "metadata": {},
   "source": [
    "A 600 mb file of dictionary of Q-values provide not so compelling results.\n",
    "\n",
    "Lets instead try a more traditional way of solving this"
   ]
  },
  {
   "cell_type": "code",
   "execution_count": 4,
   "id": "629c4749",
   "metadata": {},
   "outputs": [],
   "source": [
    "def remove_words(incorrect_letter, word_list):\n",
    "    return [word for word in word_list if incorrect_letter not in word]\n",
    "\n",
    "from functools import lru_cache\n",
    "import re\n",
    "\n",
    "@lru_cache(maxsize=None)\n",
    "def pattern_from_guess(guessed_word):\n",
    "    return re.compile('^' + ''.join('.' if c == '_' else c for c in guessed_word) + '$')\n",
    "\n",
    "def keep_words(guessed_word, word_list):\n",
    "    # Convert to string if it's a list of characters\n",
    "    if isinstance(guessed_word, list):\n",
    "        guessed_word = ''.join(guessed_word)\n",
    "\n",
    "    pattern = pattern_from_guess(guessed_word)\n",
    "    return [word for word in word_list if pattern.match(word)]\n",
    "\n",
    "\n",
    "def most_common_letter(word_list, guessed_words):\n",
    "    dictionary = {}\n",
    "    for word in word_list:\n",
    "        for letter in word:\n",
    "            if letter in dictionary:\n",
    "                dictionary[letter] += 1\n",
    "            else:\n",
    "                dictionary[letter] = 1\n",
    "\n",
    "    for item in guessed_words:\n",
    "        dictionary[item] = 0\n",
    "\n",
    "    return max(dictionary, key=dictionary.get)"
   ]
  },
  {
   "cell_type": "code",
   "execution_count": 5,
   "id": "62dc1463",
   "metadata": {},
   "outputs": [],
   "source": [
    "def evaluate_agent_simple(games=10, word_set=Word_set):\n",
    "    if word_set is None or len(word_set) < games:\n",
    "        raise ValueError(\"Word set must contain at least as many words as games to play.\")\n",
    "\n",
    "    wins = 0\n",
    "    total_lives_left = 0\n",
    "    words_won = set()\n",
    "\n",
    "    for game in range(games):\n",
    "        word = word_set[game]\n",
    "        hangman = Hangman2(word)\n",
    "        curr_word_set = word_set\n",
    "        incorrect_letters = None\n",
    "        while True:\n",
    "            guessed_letters = hangman.guessed_letters\n",
    "            guessed_word = hangman.guessed_word\n",
    "    \n",
    "            # Convert guessed_letters to a set once for fast lookup\n",
    "            guessed_letters_set = set(guessed_letters)\n",
    "\n",
    "            # Choose next best letter to guess\n",
    "            action = most_common_letter(curr_word_set, guessed_letters_set)\n",
    "            \n",
    "            move = hangman.guess(action)\n",
    "\n",
    "            game_status = hangman.is_game_over()\n",
    "            if game_status:\n",
    "                if \"win\" in game_status:\n",
    "                    wins += 1\n",
    "                    total_lives_left += hangman.lives\n",
    "                    words_won.add(hangman.word)\n",
    "                break\n",
    "\n",
    "\n",
    "            if move == \"incorrect\":\n",
    "                incorrect_letters = action\n",
    "            else:\n",
    "                # Apply filters to reduce the word set efficiently\n",
    "                curr_word_set = keep_words(guessed_word, curr_word_set)\n",
    "\n",
    "            if incorrect_letters:\n",
    "                curr_word_set = remove_words(incorrect_letters, curr_word_set)\n",
    "\n",
    "            if not action or not curr_word_set:\n",
    "                print(f\"action: {action}, Curr_word_set: {curr_word_set}\")\n",
    "                break\n",
    "\n",
    "\n",
    "\n",
    "    # Summary\n",
    "    win_rate = wins / games\n",
    "    avg_lives = total_lives_left / wins if wins > 0 else 0\n",
    "\n",
    "    print(\"\\n🎯 Evaluation Results:\")\n",
    "    print(f\"Games played: {games}\")\n",
    "    print(f\"Games won: {wins}\")\n",
    "    print(f\"Win rate: {win_rate * 100:.2f}%\")\n",
    "    print(f\"Average lives left (wins only): {avg_lives:.2f}\")\n",
    "\n",
    "    return list(words_won)\n",
    "\n"
   ]
  },
  {
   "cell_type": "code",
   "execution_count": 16,
   "id": "a7304e59",
   "metadata": {},
   "outputs": [],
   "source": [
    "agent_dqn = DQNAgent()\n",
    "agent_dqn.model.load_state_dict(torch.load(\"dqn_hangman.pt\"))\n",
    "                            \n",
    "def evaluate_dqn_agent(agent, games=10, word_set=Word_set):\n",
    "    if word_set is None or len(word_set) < games:\n",
    "        raise ValueError(\"Word set must contain at least as many words as games to play.\")\n",
    "    words_won = set()\n",
    "    wins = 0\n",
    "    total_lives_left = 0\n",
    "\n",
    "    for i in range(games):\n",
    "        target_word = word_set[i]\n",
    "        hangman = Hangman2(target_word)\n",
    "\n",
    "        while True:\n",
    "            guessed_word, guessed_letters = hangman.get_state()\n",
    "            state_tensor = agent.state_to_tensor(guessed_word, guessed_letters, hangman.lives)\n",
    "            action = agent.choose_action(state_tensor, guessed_letters)\n",
    "\n",
    "            if not action:\n",
    "                break  # No valid action left\n",
    "\n",
    "            hangman.guess(action)\n",
    "            game_status = hangman.is_game_over()\n",
    "\n",
    "            if game_status:\n",
    "                if game_status == \"win\":\n",
    "                    wins += 1\n",
    "                    total_lives_left += hangman.lives\n",
    "                    words_won.add(hangman.word)\n",
    "                break\n",
    "\n",
    "    # Print results\n",
    "    win_rate = wins / games\n",
    "    avg_lives = total_lives_left / wins if wins > 0 else 0\n",
    "\n",
    "    print(\"\\n🎯 DQN Evaluation Results\")\n",
    "    print(f\"Games played: {games}\")\n",
    "    print(f\"Wins: {wins}\")\n",
    "    print(f\"Win rate: {win_rate * 100:.2f}%\")\n",
    "    print(f\"Avg lives left (wins only): {avg_lives:.2f}\")\n",
    "\n",
    "    return list(words_won)\n"
   ]
  },
  {
   "cell_type": "code",
   "execution_count": 8,
   "id": "39ca6204",
   "metadata": {},
   "outputs": [
    {
     "name": "stdout",
     "output_type": "stream",
     "text": [
      "\n",
      "🎯 Evaluation Results:\n",
      "Games played: 8885\n",
      "Games won: 3507\n",
      "Win rate: 39.47%\n",
      "Average lives left (wins only): 2.19\n"
     ]
    }
   ],
   "source": [
    "simple_words = evaluate_agent_simple(games=8885)"
   ]
  },
  {
   "cell_type": "code",
   "execution_count": 10,
   "id": "acff6715",
   "metadata": {},
   "outputs": [
    {
     "name": "stdout",
     "output_type": "stream",
     "text": [
      "\n",
      "🎯 Evaluation Results:\n",
      "Games played: 8885\n",
      "Games won: 901\n",
      "Win rate: 10.14%\n",
      "Average lives left (wins only): 3.06\n"
     ]
    }
   ],
   "source": [
    "Q_agent = evaluate_agent2(agent, games=8885)"
   ]
  },
  {
   "cell_type": "code",
   "execution_count": 17,
   "id": "f1ffb0e3",
   "metadata": {},
   "outputs": [
    {
     "name": "stdout",
     "output_type": "stream",
     "text": [
      "\n",
      "🎯 DQN Evaluation Results\n",
      "Games played: 8885\n",
      "Wins: 116\n",
      "Win rate: 1.31%\n",
      "Avg lives left (wins only): 1.70\n"
     ]
    }
   ],
   "source": [
    "DQN_agent = evaluate_dqn_agent(agent_dqn, games=8885)"
   ]
  },
  {
   "cell_type": "code",
   "execution_count": 38,
   "id": "073156d3",
   "metadata": {},
   "outputs": [],
   "source": [
    "from collections import Counter\n",
    "import pandas as pd\n",
    "import matplotlib.pyplot as plt\n",
    "\n",
    "\n",
    "def split_dataframe(word_list, name):\n",
    "\n",
    "    all_letters = list(\"\".join(word_list))\n",
    "\n",
    "    letter_counts = Counter(all_letters)\n",
    "\n",
    "    # Create DataFrame\n",
    "    df = pd.DataFrame(letter_counts.items(), columns=[\"Letter\", \"Count\"])\n",
    "    df = df.sort_values(by=\"Count\", ascending=False)\n",
    "\n",
    "    # Visualize\n",
    "    plt.figure(figsize=(8, 5))\n",
    "    plt.bar(df[\"Letter\"], df[\"Count\"], color=\"mediumpurple\")\n",
    "    plt.xlabel(\"Letters\")\n",
    "    plt.ylabel(\"Frequency\")\n",
    "    plt.title(f\"Letter Frequency in: {name}\")\n",
    "    plt.tight_layout()\n",
    "    plt.show()"
   ]
  },
  {
   "cell_type": "code",
   "execution_count": 39,
   "id": "72f2d456",
   "metadata": {},
   "outputs": [
    {
     "data": {
      "image/png": "[encoded data removed]",
      "text/plain": [
       "<Figure size 800x500 with 1 Axes>"
      ]
     },
     "metadata": {},
     "output_type": "display_data"
    }
   ],
   "source": [
    "split_dataframe(DQN_agent, \"DQN_agent\")"
   ]
  },
  {
   "cell_type": "code",
   "execution_count": 40,
   "id": "12085450",
   "metadata": {},
   "outputs": [
    {
     "data": {
      "image/png": "[encoded data removed]",
      "text/plain": [
       "<Figure size 800x500 with 1 Axes>"
      ]
     },
     "metadata": {},
     "output_type": "display_data"
    }
   ],
   "source": [
    "split_dataframe(Q_agent, \"DQN_agent\")"
   ]
  },
  {
   "cell_type": "code",
   "execution_count": 41,
   "id": "bb55153e",
   "metadata": {},
   "outputs": [
    {
     "data": {
      "image/png": "[encoded data removed]",
      "text/plain": [
       "<Figure size 800x500 with 1 Axes>"
      ]
     },
     "metadata": {},
     "output_type": "display_data"
    }
   ],
   "source": [
    "split_dataframe(simple_words, \"simple_model\")"
   ]
  }
 ],
 "metadata": {
  "kernelspec": {
   "display_name": "Python 3",
   "language": "python",
   "name": "python3"
  },
  "language_info": {
   "codemirror_mode": {
    "name": "ipython",
    "version": 3
   },
   "file_extension": ".py",
   "mimetype": "text/x-python",
   "name": "python",
   "nbconvert_exporter": "python",
   "pygments_lexer": "ipython3",
   "version": "3.12.1"
  }
 },
 "nbformat": 4,
 "nbformat_minor": 5
}
